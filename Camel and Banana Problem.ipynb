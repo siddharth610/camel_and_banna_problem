{
 "cells": [
  {
   "cell_type": "code",
   "execution_count": 2,
   "metadata": {},
   "outputs": [
    {
     "name": "stdout",
     "output_type": "stream",
     "text": [
      "533\n"
     ]
    }
   ],
   "source": [
    "dp = [[-1 for i in range(3001)] for j in range(1001)]\n",
    "def recBananaCnt(A, B, C):\n",
    "    if (B <= A):\n",
    "        return 0\n",
    "    if (B <= C):\n",
    "        return B - A\n",
    "    if (A == 0):\n",
    "        return B\n",
    "    if (dp[A][B] != -1):\n",
    "        return dp[A][B]\n",
    "\n",
    "    maxCount = -2**32\n",
    "    tripCount = ((2 * B) // C) - 1 if(B % C == 0 ) else ((2 * B) // C) + 1\n",
    "\n",
    "    for i in range(1,A+1):\n",
    "        curCount = recBananaCnt(A - i, B - tripCount * i, C)\n",
    "\n",
    "        if (curCount > maxCount):\n",
    "            maxCount = curCount\n",
    "            dp[A][B] = maxCount\n",
    "            \n",
    "    return maxCount\n",
    "def maxBananaCnt(A, B, C):\n",
    "    return recBananaCnt(A, B, C)\n",
    "A = 1000\n",
    "B = 3000\n",
    "C = 1000\n",
    "print(maxBananaCnt(A, B, C))\n",
    "\n",
    "\n",
    "\n"
   ]
  },
  {
   "cell_type": "code",
   "execution_count": null,
   "metadata": {},
   "outputs": [],
   "source": []
  }
 ],
 "metadata": {
  "kernelspec": {
   "display_name": "Python 3",
   "language": "python",
   "name": "python3"
  },
  "language_info": {
   "codemirror_mode": {
    "name": "ipython",
    "version": 3
   },
   "file_extension": ".py",
   "mimetype": "text/x-python",
   "name": "python",
   "nbconvert_exporter": "python",
   "pygments_lexer": "ipython3",
   "version": "3.8.5"
  }
 },
 "nbformat": 4,
 "nbformat_minor": 4
}
